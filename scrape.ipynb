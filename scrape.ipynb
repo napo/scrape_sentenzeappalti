{
 "cells": [
  {
   "cell_type": "code",
   "execution_count": 1,
   "metadata": {},
   "outputs": [],
   "source": [
    "import requests\n",
    "from bs4 import BeautifulSoup\n",
    "import re\n",
    "from weasyprint import HTML"
   ]
  },
  {
   "cell_type": "code",
   "execution_count": 2,
   "metadata": {},
   "outputs": [],
   "source": [
    "url =\"https://www.sentenzeappalti.it/sentenze/\"\n",
    "# Download the content directly\n",
    "response = requests.get(url)\n",
    "soup = BeautifulSoup(response.text, 'html.parser')"
   ]
  },
  {
   "cell_type": "code",
   "execution_count": 3,
   "metadata": {},
   "outputs": [],
   "source": [
    "def sanitize_filename(name):    \n",
    "    # Sostituiamo spazi con underscore\n",
    "    name = name.replace(\" \", \"_\")\n",
    "    # Sostituiamo caratteri problematici con '-'\n",
    "    name = re.sub(r'[\\/,:]', '-', name)\n",
    "    # Rimuoviamo tutti i caratteri non alfanumerici, tranne '-' e '_'\n",
    "    name = re.sub(r'[^a-zA-Z0-9_-]', '', name)\n",
    "    # Rimuoviamo punti interni nel nome del file (ma non nell'estensione)\n",
    "    name = name.replace('.', '')\n",
    "\n",
    "    return name"
   ]
  },
  {
   "cell_type": "code",
   "execution_count": 4,
   "metadata": {},
   "outputs": [],
   "source": [
    "# Trova il div con class=\"pagination loop-pagination\"\n",
    "pagination_div = soup.find('div', class_='pagination loop-pagination')\n",
    "maxpages = 0\n",
    "# Estrai il valore numerico presente in p.text\n",
    "for p in pagination_div.find_all(\"a\", class_=\"page-numbers\"):\n",
    "    numeric_value = re.findall(r'\\d+', p.text)\n",
    "    if numeric_value:\n",
    "        pages = int(numeric_value[0])\n",
    "        if pages > maxpages:\n",
    "            maxpages = pages"
   ]
  },
  {
   "cell_type": "code",
   "execution_count": null,
   "metadata": {},
   "outputs": [],
   "source": [
    "for npage in range(maxpages):\n",
    "    num_page = npage + 1\n",
    "    url_page = url + \"page\"+ str(num_page)\n",
    "    try:\n",
    "        # Esegui la richiesta HTTP\n",
    "        response = requests.get(url_page)\n",
    "        response.raise_for_status()\n",
    "        soup_page = BeautifulSoup(response.text, 'html.parser')\n",
    "        headers = soup_page.find_all(\"header\",class_=\"entry-header\")\n",
    "        for header in headers:\n",
    "            url_sentence = header.find(\"h1\").find(\"a\")['href']\n",
    "            try:\n",
    "                response = requests.get(url_sentence)\n",
    "                response.raise_for_status()\n",
    "                soup_sentence = BeautifulSoup(response.text, 'html.parser')\n",
    "                portali_giustizia_links_with_text = [(a['href'], a.text) for a in soup_sentence.find_all('a', href=True) if 'portali.giustizia' in a['href']]\n",
    "                for portale in portali_giustizia_links_with_text:\n",
    "                    url_to_pdf = portale[0]\n",
    "                    name_pdf = sanitize_filename(portale[1]) + \".pdf\"\n",
    "                    try:\n",
    "                        # Estrai l'URL dal primo elemento di portali_giustizia_links\n",
    "                        # Leggi il contenuto dell'URL\n",
    "                        response = requests.get(url_to_pdf)\n",
    "                        response.raise_for_status()\n",
    "                        content = response.text\n",
    "                        HTML(string=content, base_url=url_to_pdf).write_pdf(name_pdf)\n",
    "                    except requests.exceptions.RequestException as e:\n",
    "                        print(f\"Errore nella richiesta {url_to_pdf}: {e}\")\n",
    "                        continue\n",
    "            except requests.exceptions.RequestException as e:\n",
    "                print(f\"Errore nella richiesta {url_sentence}: {e}\")\n",
    "                continue\n",
    "    except requests.exceptions.RequestException as e:\n",
    "        print(f\"Errore nella richiesta {url_page}: {e}\")\n",
    "        continue"
   ]
  },
  {
   "cell_type": "code",
   "execution_count": null,
   "metadata": {},
   "outputs": [],
   "source": []
  }
 ],
 "metadata": {
  "kernelspec": {
   "display_name": "Python 3",
   "language": "python",
   "name": "python3"
  },
  "language_info": {
   "codemirror_mode": {
    "name": "ipython",
    "version": 3
   },
   "file_extension": ".py",
   "mimetype": "text/x-python",
   "name": "python",
   "nbconvert_exporter": "python",
   "pygments_lexer": "ipython3",
   "version": "3.12.7"
  }
 },
 "nbformat": 4,
 "nbformat_minor": 2
}
