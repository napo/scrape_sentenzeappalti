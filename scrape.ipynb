{
 "cells": [
  {
   "cell_type": "code",
   "execution_count": 2,
   "metadata": {},
   "outputs": [],
   "source": [
    "import requests\n",
    "from bs4 import BeautifulSoup\n",
    "import re\n",
    "from weasyprint import HTML"
   ]
  },
  {
   "cell_type": "code",
   "execution_count": 3,
   "metadata": {},
   "outputs": [],
   "source": [
    "url =\"https://www.sentenzeappalti.it/sentenze/\"\n",
    "# Download the content directly\n",
    "response = requests.get(url)\n",
    "soup = BeautifulSoup(response.text, 'html.parser')"
   ]
  },
  {
   "cell_type": "code",
   "execution_count": 4,
   "metadata": {},
   "outputs": [],
   "source": [
    "def sanitize_filename(name):    \n",
    "    # Sostituiamo spazi con underscore\n",
    "    name = name.replace(\" \", \"_\")\n",
    "    # Sostituiamo caratteri problematici con '-'\n",
    "    name = re.sub(r'[\\/,:]', '-', name)\n",
    "    # Rimuoviamo tutti i caratteri non alfanumerici, tranne '-' e '_'\n",
    "    name = re.sub(r'[^a-zA-Z0-9_-]', '', name)\n",
    "    # Rimuoviamo punti interni nel nome del file (ma non nell'estensione)\n",
    "    name = name.replace('.', '')\n",
    "\n",
    "    return name"
   ]
  },
  {
   "cell_type": "code",
   "execution_count": 5,
   "metadata": {},
   "outputs": [],
   "source": [
    "# Trova il div con class=\"pagination loop-pagination\"\n",
    "pagination_div = soup.find('div', class_='pagination loop-pagination')\n",
    "maxpages = 0\n",
    "# Estrai il valore numerico presente in p.text\n",
    "for p in pagination_div.find_all(\"a\", class_=\"page-numbers\"):\n",
    "    numeric_value = re.findall(r'\\d+', p.text)\n",
    "    if numeric_value:\n",
    "        pages = int(numeric_value[0])\n",
    "        if pages > maxpages:\n",
    "            maxpages = pages"
   ]
  },
  {
   "cell_type": "code",
   "execution_count": 22,
   "metadata": {},
   "outputs": [
    {
     "name": "stdout",
     "output_type": "stream",
     "text": [
      "15\n"
     ]
    },
    {
     "ename": "FileNotFoundError",
     "evalue": "[Errno 2] No such file or directory: 'art. 16 comma 5 All. II.12 D.lgs. n. 36/2023.pdf'",
     "output_type": "error",
     "traceback": [
      "\u001b[0;31m---------------------------------------------------------------------------\u001b[0m",
      "\u001b[0;31mFileNotFoundError\u001b[0m                         Traceback (most recent call last)",
      "Cell \u001b[0;32mIn[22], line 27\u001b[0m\n\u001b[1;32m     25\u001b[0m     response\u001b[38;5;241m.\u001b[39mraise_for_status()\n\u001b[1;32m     26\u001b[0m     content \u001b[38;5;241m=\u001b[39m response\u001b[38;5;241m.\u001b[39mtext\n\u001b[0;32m---> 27\u001b[0m     \u001b[43mHTML\u001b[49m\u001b[43m(\u001b[49m\u001b[43mstring\u001b[49m\u001b[38;5;241;43m=\u001b[39;49m\u001b[43mcontent\u001b[49m\u001b[43m,\u001b[49m\u001b[43m \u001b[49m\u001b[43mbase_url\u001b[49m\u001b[38;5;241;43m=\u001b[39;49m\u001b[43murl_to_pdf\u001b[49m\u001b[43m)\u001b[49m\u001b[38;5;241;43m.\u001b[39;49m\u001b[43mwrite_pdf\u001b[49m\u001b[43m(\u001b[49m\u001b[43mname_pdf\u001b[49m\u001b[43m)\u001b[49m\n\u001b[1;32m     28\u001b[0m \u001b[38;5;28;01mexcept\u001b[39;00m requests\u001b[38;5;241m.\u001b[39mexceptions\u001b[38;5;241m.\u001b[39mRequestException \u001b[38;5;28;01mas\u001b[39;00m e:\n\u001b[1;32m     29\u001b[0m     \u001b[38;5;28mprint\u001b[39m(\u001b[38;5;124mf\u001b[39m\u001b[38;5;124m\"\u001b[39m\u001b[38;5;124mErrore nella richiesta \u001b[39m\u001b[38;5;132;01m{\u001b[39;00murl_to_pdf\u001b[38;5;132;01m}\u001b[39;00m\u001b[38;5;124m: \u001b[39m\u001b[38;5;132;01m{\u001b[39;00me\u001b[38;5;132;01m}\u001b[39;00m\u001b[38;5;124m\"\u001b[39m)\n",
      "File \u001b[0;32m~/.local/lib/python3.12/site-packages/weasyprint/__init__.py:265\u001b[0m, in \u001b[0;36mHTML.write_pdf\u001b[0;34m(self, target, zoom, finisher, font_config, counter_style, **options)\u001b[0m\n\u001b[1;32m    262\u001b[0m new_options\u001b[38;5;241m.\u001b[39mupdate(options)\n\u001b[1;32m    263\u001b[0m options \u001b[38;5;241m=\u001b[39m new_options\n\u001b[1;32m    264\u001b[0m \u001b[38;5;28;01mreturn\u001b[39;00m (\n\u001b[0;32m--> 265\u001b[0m     \u001b[38;5;28;43mself\u001b[39;49m\u001b[38;5;241;43m.\u001b[39;49m\u001b[43mrender\u001b[49m\u001b[43m(\u001b[49m\u001b[43mfont_config\u001b[49m\u001b[43m,\u001b[49m\u001b[43m \u001b[49m\u001b[43mcounter_style\u001b[49m\u001b[43m,\u001b[49m\u001b[43m \u001b[49m\u001b[38;5;241;43m*\u001b[39;49m\u001b[38;5;241;43m*\u001b[39;49m\u001b[43moptions\u001b[49m\u001b[43m)\u001b[49m\n\u001b[1;32m    266\u001b[0m \u001b[43m    \u001b[49m\u001b[38;5;241;43m.\u001b[39;49m\u001b[43mwrite_pdf\u001b[49m\u001b[43m(\u001b[49m\u001b[43mtarget\u001b[49m\u001b[43m,\u001b[49m\u001b[43m \u001b[49m\u001b[43mzoom\u001b[49m\u001b[43m,\u001b[49m\u001b[43m \u001b[49m\u001b[43mfinisher\u001b[49m\u001b[43m,\u001b[49m\u001b[43m \u001b[49m\u001b[38;5;241;43m*\u001b[39;49m\u001b[38;5;241;43m*\u001b[39;49m\u001b[43moptions\u001b[49m\u001b[43m)\u001b[49m)\n",
      "File \u001b[0;32m~/.local/lib/python3.12/site-packages/weasyprint/document.py:408\u001b[0m, in \u001b[0;36mDocument.write_pdf\u001b[0;34m(self, target, zoom, finisher, **options)\u001b[0m\n\u001b[1;32m    406\u001b[0m     pdf\u001b[38;5;241m.\u001b[39mwrite(target, version, identifier, compress)\n\u001b[1;32m    407\u001b[0m \u001b[38;5;28;01melse\u001b[39;00m:\n\u001b[0;32m--> 408\u001b[0m     \u001b[38;5;28;01mwith\u001b[39;00m \u001b[38;5;28;43mopen\u001b[39;49m\u001b[43m(\u001b[49m\u001b[43mtarget\u001b[49m\u001b[43m,\u001b[49m\u001b[43m \u001b[49m\u001b[38;5;124;43m'\u001b[39;49m\u001b[38;5;124;43mwb\u001b[39;49m\u001b[38;5;124;43m'\u001b[39;49m\u001b[43m)\u001b[49m \u001b[38;5;28;01mas\u001b[39;00m fd:\n\u001b[1;32m    409\u001b[0m         pdf\u001b[38;5;241m.\u001b[39mwrite(fd, version, identifier, compress)\n",
      "\u001b[0;31mFileNotFoundError\u001b[0m: [Errno 2] No such file or directory: 'art. 16 comma 5 All. II.12 D.lgs. n. 36/2023.pdf'"
     ]
    }
   ],
   "source": [
    "for npage in range(14,15): # range(maxpages):\n",
    "    num_page = npage + 1\n",
    "    print(num_page)\n",
    "    url_page = url + \"page\"+ str(num_page)\n",
    "    try:\n",
    "        # Esegui la richiesta HTTP\n",
    "        response = requests.get(url_page)\n",
    "        response.raise_for_status()\n",
    "        soup_page = BeautifulSoup(response.text, 'html.parser')\n",
    "        headers = soup_page.find_all(\"header\",class_=\"entry-header\")\n",
    "        for header in headers:\n",
    "            url_sentence = header.find(\"h1\").find(\"a\")['href']\n",
    "            try:\n",
    "                response = requests.get(url_sentence)\n",
    "                response.raise_for_status()\n",
    "                soup_sentence = BeautifulSoup(response.text, 'html.parser')\n",
    "                portali_giustizia_links_with_text = [(a['href'], a.text) for a in soup_sentence.find_all('a', href=True) if 'portali.giustizia' in a['href']]\n",
    "                for portale in portali_giustizia_links_with_text:\n",
    "                    url_to_pdf = portale[0]\n",
    "                    name_pdf = sanitize_filename(portale[1]) + \".pdf\"\n",
    "                    try:\n",
    "                        # Estrai l'URL dal primo elemento di portali_giustizia_links\n",
    "                        # Leggi il contenuto dell'URL\n",
    "                        response = requests.get(url_to_pdf)\n",
    "                        response.raise_for_status()\n",
    "                        content = response.text\n",
    "                        HTML(string=content, base_url=url_to_pdf).write_pdf(name_pdf)\n",
    "                    except requests.exceptions.RequestException as e:\n",
    "                        print(f\"Errore nella richiesta {url_to_pdf}: {e}\")\n",
    "                        continue\n",
    "            except requests.exceptions.RequestException as e:\n",
    "                print(f\"Errore nella richiesta {url_sentence}: {e}\")\n",
    "                continue\n",
    "    except requests.exceptions.RequestException as e:\n",
    "        print(f\"Errore nella richiesta {url_page}: {e}\")\n",
    "        continue"
   ]
  },
  {
   "cell_type": "code",
   "execution_count": null,
   "metadata": {},
   "outputs": [],
   "source": []
  }
 ],
 "metadata": {
  "kernelspec": {
   "display_name": "Python 3",
   "language": "python",
   "name": "python3"
  },
  "language_info": {
   "codemirror_mode": {
    "name": "ipython",
    "version": 3
   },
   "file_extension": ".py",
   "mimetype": "text/x-python",
   "name": "python",
   "nbconvert_exporter": "python",
   "pygments_lexer": "ipython3",
   "version": "3.12.7"
  }
 },
 "nbformat": 4,
 "nbformat_minor": 2
}
